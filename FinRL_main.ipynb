{
 "cells": [
  {
   "cell_type": "markdown",
   "metadata": {
    "colab_type": "text",
    "id": "view-in-github",
    "pycharm": {
     "name": "#%% md\n"
    }
   },
   "source": [
    "<a href=\"https://colab.research.google.com/github/AI4Finance-Foundation/FinRL/blob/master/FinRL_PortfolioAllocation_NeurIPS_2020.ipynb\" target=\"_parent\"><img src=\"https://colab.research.google.com/assets/colab-badge.svg\" alt=\"Open In Colab\"/></a>"
   ]
  },
  {
   "cell_type": "markdown",
   "metadata": {
    "id": "bNmvYN9YbU4B",
    "pycharm": {
     "name": "#%% md\n"
    }
   },
   "source": [
    "### Import Packages"
   ]
  },
  {
   "cell_type": "code",
   "execution_count": 55,
   "metadata": {
    "colab": {
     "base_uri": "https://localhost:8080/"
    },
    "id": "ntfTb0e2bU4C",
    "outputId": "6dd3eee3-d5b4-4a17-f52f-61a3953092ef",
    "pycharm": {
     "name": "#%%\n"
    }
   },
   "outputs": [],
   "source": [
    "import pandas as pd\n",
    "import numpy as np\n",
    "import matplotlib.pyplot as plt\n",
    "import datetime\n",
    "import math\n",
    "from datetime import datetime\n",
    "from Data_processor import YahooFinanceProcessor"
   ]
  },
  {
   "cell_type": "markdown",
   "metadata": {
    "id": "slBria_QbU4F",
    "pycharm": {
     "name": "#%% md\n"
    }
   },
   "source": [
    "### Download Data"
   ]
  },
  {
   "cell_type": "code",
   "execution_count": 56,
   "metadata": {
    "pycharm": {
     "name": "#%%\n"
    }
   },
   "outputs": [],
   "source": [
    "# 設定資料日期範圍\n",
    "TRAIN_START_DATE = \"2016-01-01\"\n",
    "TRAIN_END_DATE = \"2021-01-01\"\n",
    "\n",
    "TEST_START_DATE = \"2021-01-01\"\n",
    "TEST_END_DATE = \"2022-01-01\""
   ]
  },
  {
   "cell_type": "markdown",
   "metadata": {
    "pycharm": {
     "name": "#%% md\n"
    }
   },
   "source": [
    "### Data Preprocessing"
   ]
  },
  {
   "cell_type": "code",
   "execution_count": 57,
   "metadata": {
    "pycharm": {
     "name": "#%%\n"
    }
   },
   "outputs": [],
   "source": [
    "company = 'aapl'\n",
    "if company=='aapl':\n",
    "    ticker_list = ['aapl', 'msft', 'amzn', 'googl', 'fb', 'tsla', 'brk-a', 'v', 'jpm', 'jnj', 'wmt']\n",
    "elif company=='xom':\n",
    "    ticker_list = ['xom','lin','mmm','amzn','wmt','jnj','brk-a','aapl','dis','nee','amt']\n",
    "elif company=='ge':\n",
    "    ticker_list = ['ge', 'f', 'aapl', 'aal', 'bac', 'ccl', 'amd', 'wfc', 't', 'msft', 'pfe']\n",
    "\n",
    "ticker_list = ['VLT', 'VTI', 'VNQ']"
   ]
  },
  {
   "cell_type": "code",
   "execution_count": null,
   "metadata": {
    "pycharm": {
     "name": "#%%\n"
    }
   },
   "outputs": [
    {
     "name": "stdout",
     "output_type": "stream",
     "text": [
      "[*********************100%***********************]  1 of 1 completed\n",
      "\n",
      "1 Failed download:\n",
      "- VLT: No data found for this date range, symbol may be delisted\n"
     ]
    }
   ],
   "source": [
    "# 資料下載與前處理(只包含training範圍的資料)\n",
    "\n",
    "# 股票代碼與技術指標的list\n",
    "\n",
    "tech_list = []\n",
    "\n",
    "# 技術指標與VIX的開關，如果不想加就設定為False\n",
    "if_vix = False\n",
    "if_tech = False\n",
    "\n",
    "# 下載並清洗資料\n",
    "DP = YahooFinanceProcessor()\n",
    "train_data = DP.download_data(start_date = TRAIN_START_DATE,end_date = TRAIN_END_DATE,ticker_list = ticker_list, time_interval='1D')\n",
    "train_data = DP.clean_data(train_data)\n",
    "test_data = DP.download_data(start_date = TEST_START_DATE,end_date = TEST_END_DATE,ticker_list = ticker_list, time_interval='1D')\n",
    "test_data = DP.clean_data(test_data)\n",
    "\n",
    "# 加入技術指標和恐慌指數(如果有的話)\n",
    "if if_tech:\n",
    "    tech_list = ['close_30_sma','close_60_sma','macd','boll_ub','boll_lb','dx_30','rsi_30']\n",
    "    train_data = DP.add_technical_indicator(train_data, tech_list)\n",
    "    test_data = DP.add_technical_indicator(test_data, tech_list)\n",
    "if if_vix:\n",
    "    train_data = DP.add_vix(train_data)\n",
    "    test_data = DP.add_vix(test_data)\n",
    "    \n",
    "# DataFrame轉成np.array\n",
    "price_array_train, tech_array_train, turbulence_array_train = DP.df_to_array(train_data,tech_list, if_vix, if_tech)\n",
    "price_array_test, tech_array_test, turbulence_array_test = DP.df_to_array(test_data,tech_list, if_vix, if_tech)\n",
    "\n",
    "# 加入額外的state資訊 ( RN embedding )\n",
    "aug_state_array_train = np.zeros((0,0))\n",
    "aug_state_array_test = np.zeros((0,0))\n",
    "#aug_state_array_train = np.load('./RN/AAPL_rn_rt4rn_train.npy')\n",
    "#aug_state_array_test = np.load('./RN/AAPL_rn_rt4rn_test.npy')\n",
    "\n",
    "# aug_state_array = np.zeros((price_array.shape[0],11,8)) # (754,11,8)\n",
    "\n",
    "\n",
    "#加入AE的資訊 (AE noise)\n",
    "# ae_train = np.load('./AE/GE_AE_rt6_train.npy')\n",
    "# ae_test = np.load('./AE/GE_AE_rt6_test.npy')\n",
    "\n",
    "\n",
    "# 印一下形狀\n",
    "print('=============')\n",
    "print('price_array_train: ',price_array_train.shape)\n",
    "print('tech_array_train: ',tech_array_train.shape)\n",
    "print('turbulence_array_train: ',turbulence_array_train.shape)\n",
    "#print('aug_state_array_train: ',aug_state_array_train.shape)\n",
    "# print('ae_train:',ae_train.shape)\n",
    "\n",
    "\n",
    "\n",
    "print('-----------')\n",
    "print('price_array_test: ',price_array_test.shape)\n",
    "print('tech_array_test: ',tech_array_test.shape)\n",
    "print('turbulence_array_test: ',turbulence_array_test.shape)\n",
    "#print('aug_state_array_test: ',aug_state_array_test.shape)\n",
    "# print('ae_test:',ae_test.shape)"
   ]
  },
  {
   "cell_type": "code",
   "execution_count": null,
   "metadata": {
    "pycharm": {
     "name": "#%%\n"
    }
   },
   "outputs": [],
   "source": [
    "price_array_train"
   ]
  },
  {
   "cell_type": "code",
   "execution_count": 6,
   "metadata": {
    "pycharm": {
     "name": "#%%\n"
    }
   },
   "outputs": [
    {
     "data": {
      "text/html": [
       "<div>\n",
       "<style scoped>\n",
       "    .dataframe tbody tr th:only-of-type {\n",
       "        vertical-align: middle;\n",
       "    }\n",
       "\n",
       "    .dataframe tbody tr th {\n",
       "        vertical-align: top;\n",
       "    }\n",
       "\n",
       "    .dataframe thead th {\n",
       "        text-align: right;\n",
       "    }\n",
       "</style>\n",
       "<table border=\"1\" class=\"dataframe\">\n",
       "  <thead>\n",
       "    <tr style=\"text-align: right;\">\n",
       "      <th></th>\n",
       "      <th>time</th>\n",
       "      <th>open</th>\n",
       "      <th>high</th>\n",
       "      <th>low</th>\n",
       "      <th>close</th>\n",
       "      <th>adjcp</th>\n",
       "      <th>volume</th>\n",
       "      <th>tic</th>\n",
       "    </tr>\n",
       "  </thead>\n",
       "  <tbody>\n",
       "    <tr>\n",
       "      <th>0</th>\n",
       "      <td>2017-01-03</td>\n",
       "      <td>14.280000</td>\n",
       "      <td>14.360000</td>\n",
       "      <td>14.220000</td>\n",
       "      <td>14.340000</td>\n",
       "      <td>8.829056</td>\n",
       "      <td>52500.0</td>\n",
       "      <td>VLT</td>\n",
       "    </tr>\n",
       "    <tr>\n",
       "      <th>1</th>\n",
       "      <td>2017-01-04</td>\n",
       "      <td>14.320000</td>\n",
       "      <td>14.400000</td>\n",
       "      <td>14.290000</td>\n",
       "      <td>14.400000</td>\n",
       "      <td>8.865996</td>\n",
       "      <td>7700.0</td>\n",
       "      <td>VLT</td>\n",
       "    </tr>\n",
       "    <tr>\n",
       "      <th>2</th>\n",
       "      <td>2017-01-05</td>\n",
       "      <td>14.440000</td>\n",
       "      <td>14.440000</td>\n",
       "      <td>14.370000</td>\n",
       "      <td>14.400000</td>\n",
       "      <td>8.865996</td>\n",
       "      <td>10800.0</td>\n",
       "      <td>VLT</td>\n",
       "    </tr>\n",
       "    <tr>\n",
       "      <th>3</th>\n",
       "      <td>2017-01-06</td>\n",
       "      <td>14.420000</td>\n",
       "      <td>14.480000</td>\n",
       "      <td>14.350000</td>\n",
       "      <td>14.400000</td>\n",
       "      <td>8.865996</td>\n",
       "      <td>18800.0</td>\n",
       "      <td>VLT</td>\n",
       "    </tr>\n",
       "    <tr>\n",
       "      <th>4</th>\n",
       "      <td>2017-01-09</td>\n",
       "      <td>14.410000</td>\n",
       "      <td>14.430000</td>\n",
       "      <td>14.390000</td>\n",
       "      <td>14.410000</td>\n",
       "      <td>8.872156</td>\n",
       "      <td>36000.0</td>\n",
       "      <td>VLT</td>\n",
       "    </tr>\n",
       "    <tr>\n",
       "      <th>...</th>\n",
       "      <td>...</td>\n",
       "      <td>...</td>\n",
       "      <td>...</td>\n",
       "      <td>...</td>\n",
       "      <td>...</td>\n",
       "      <td>...</td>\n",
       "      <td>...</td>\n",
       "      <td>...</td>\n",
       "    </tr>\n",
       "    <tr>\n",
       "      <th>3772</th>\n",
       "      <td>2021-12-27</td>\n",
       "      <td>240.479996</td>\n",
       "      <td>242.960007</td>\n",
       "      <td>240.339996</td>\n",
       "      <td>242.960007</td>\n",
       "      <td>240.220520</td>\n",
       "      <td>4395100.0</td>\n",
       "      <td>VTI</td>\n",
       "    </tr>\n",
       "    <tr>\n",
       "      <th>3773</th>\n",
       "      <td>2021-12-28</td>\n",
       "      <td>243.059998</td>\n",
       "      <td>243.779999</td>\n",
       "      <td>242.039993</td>\n",
       "      <td>242.460007</td>\n",
       "      <td>239.726166</td>\n",
       "      <td>3960900.0</td>\n",
       "      <td>VTI</td>\n",
       "    </tr>\n",
       "    <tr>\n",
       "      <th>3774</th>\n",
       "      <td>2021-12-29</td>\n",
       "      <td>242.550003</td>\n",
       "      <td>243.160004</td>\n",
       "      <td>241.710007</td>\n",
       "      <td>242.600006</td>\n",
       "      <td>239.864578</td>\n",
       "      <td>3044300.0</td>\n",
       "      <td>VTI</td>\n",
       "    </tr>\n",
       "    <tr>\n",
       "      <th>3775</th>\n",
       "      <td>2021-12-30</td>\n",
       "      <td>243.110001</td>\n",
       "      <td>243.690002</td>\n",
       "      <td>242.000000</td>\n",
       "      <td>242.210007</td>\n",
       "      <td>239.478989</td>\n",
       "      <td>4501500.0</td>\n",
       "      <td>VTI</td>\n",
       "    </tr>\n",
       "    <tr>\n",
       "      <th>3776</th>\n",
       "      <td>2021-12-31</td>\n",
       "      <td>242.089996</td>\n",
       "      <td>242.690002</td>\n",
       "      <td>241.440002</td>\n",
       "      <td>241.440002</td>\n",
       "      <td>238.717651</td>\n",
       "      <td>3499900.0</td>\n",
       "      <td>VTI</td>\n",
       "    </tr>\n",
       "  </tbody>\n",
       "</table>\n",
       "<p>3777 rows × 8 columns</p>\n",
       "</div>"
      ],
      "text/plain": [
       "            time        open        high         low       close       adjcp  \\\n",
       "0     2017-01-03   14.280000   14.360000   14.220000   14.340000    8.829056   \n",
       "1     2017-01-04   14.320000   14.400000   14.290000   14.400000    8.865996   \n",
       "2     2017-01-05   14.440000   14.440000   14.370000   14.400000    8.865996   \n",
       "3     2017-01-06   14.420000   14.480000   14.350000   14.400000    8.865996   \n",
       "4     2017-01-09   14.410000   14.430000   14.390000   14.410000    8.872156   \n",
       "...          ...         ...         ...         ...         ...         ...   \n",
       "3772  2021-12-27  240.479996  242.960007  240.339996  242.960007  240.220520   \n",
       "3773  2021-12-28  243.059998  243.779999  242.039993  242.460007  239.726166   \n",
       "3774  2021-12-29  242.550003  243.160004  241.710007  242.600006  239.864578   \n",
       "3775  2021-12-30  243.110001  243.690002  242.000000  242.210007  239.478989   \n",
       "3776  2021-12-31  242.089996  242.690002  241.440002  241.440002  238.717651   \n",
       "\n",
       "         volume  tic  \n",
       "0       52500.0  VLT  \n",
       "1        7700.0  VLT  \n",
       "2       10800.0  VLT  \n",
       "3       18800.0  VLT  \n",
       "4       36000.0  VLT  \n",
       "...         ...  ...  \n",
       "3772  4395100.0  VTI  \n",
       "3773  3960900.0  VTI  \n",
       "3774  3044300.0  VTI  \n",
       "3775  4501500.0  VTI  \n",
       "3776  3499900.0  VTI  \n",
       "\n",
       "[3777 rows x 8 columns]"
      ]
     },
     "execution_count": 6,
     "metadata": {},
     "output_type": "execute_result"
    }
   ],
   "source": [
    "train_data"
   ]
  },
  {
   "cell_type": "markdown",
   "metadata": {
    "pycharm": {
     "name": "#%% md\n"
    }
   },
   "source": [
    "## Initiate Agent & Environment "
   ]
  },
  {
   "cell_type": "code",
   "execution_count": 35,
   "metadata": {
    "pycharm": {
     "name": "#%%\n"
    }
   },
   "outputs": [],
   "source": [
    "# 金融交易環境for資產配置\n",
    "class StockPortfolioEnv:  \n",
    "    \n",
    "    # 初始化參數由env_args傳入\n",
    "    def __init__(self, \n",
    "                 price_array, #各公司的股價(調整後收盤價)\n",
    "                 tech_array, #技術指標陣列\n",
    "                 #turbulence_array, #vix\n",
    "                 #aug_state_array, #其他的state(embedding / 時間資訊 / 資產資訊)\n",
    "                 env_name, #環境名稱\n",
    "                 lookback, #window size(每次交易看過去幾天),\n",
    "                ):\n",
    "        \n",
    "        initial_capital = 100000\n",
    "        \n",
    "        self.lookback = lookback  # 預設看過去10天\n",
    "        self.initial_total_asset = initial_capital # 初始總資產(股票+現金)\n",
    "        self.initial_cash = initial_capital #初始現金\n",
    "        \n",
    "        self.trans_cost = 0.01 #交易手續費(買賣都一樣)\n",
    "        self.buy_cost_pct = self.trans_cost # buy手續費\n",
    "        self.sell_cost_pct = self.trans_cost # sell手續費\n",
    "        self.gamma = 1 # reward遞減係數\n",
    "        \n",
    "        # 載入放入state的陣列\n",
    "        self.price_array = price_array \n",
    "        self.tech_array = tech_array  \n",
    "        #self.aug_state_array = aug_state_array\n",
    "#         self.ae_array = ae_array\n",
    "        #self.turbulence_array = turbulence_array\n",
    "        \n",
    "        # 價格轉成daily return \n",
    "        self.price_return = pd.DataFrame(self.price_array).pct_change(1).fillna(0).values\n",
    "        \n",
    "        # vix轉成r return\n",
    "        #self.turbulence_array = pd.DataFrame(self.turbulence_array).pct_change(1).fillna(0).values\n",
    "\n",
    "        \n",
    "        self.stock_num = self.price_array.shape[1] #有幾隻股票要交易\n",
    "        self.max_step =  self.price_array.shape[0] - lookback-1 #每個episode最多走幾步(期初走到最後一天)\n",
    "#         self.max_step = self.price_array.shape[0] - lookback-1\n",
    "        self.env_num = 1 #有幾個環境(預設為1)\n",
    "        print('max_step',self.max_step)\n",
    "        print('self.price_array.shape[0]',self.price_return.shape[0])\n",
    "        \n",
    "        # 將環境初始化\n",
    "        self.time = lookback-1 #現在的時間點\n",
    "        self.cash = self.initial_cash\n",
    "        self.current_price = self.price_array[self.time]\n",
    "        self.current_tech = self.tech_array[self.time] if self.tech_array.shape[0]>0 else self.tech_array\n",
    "        #self.current_aug_state = self.aug_state_array[self.time] if self.aug_state_array.shape[0]>0 else self.aug_state_array\n",
    "        self.portfolio = np.zeros(self.stock_num, dtype=np.float32) #現在手上的股票部位\n",
    "        \n",
    "        \n",
    "        # 紀錄訓練的結果\n",
    "        self.history = {'cumu_return':[],'action':[]}\n",
    "\n",
    "        # 紀錄現有資產及報酬率\n",
    "        self.total_asset = self.cash + (self.portfolio * self.price_array[self.time]).sum()\n",
    "        self.episode_return = 0.0  \n",
    "        self.gamma_return = 0.0\n",
    "        \n",
    "\n",
    "        '''env information'''\n",
    "        self.env_name = env_name\n",
    "        self.state_dim = self.price_return.shape[1]*lookback #1 + (self.price_array.shape[1] + self.tech_array.shape[0])*lookback\n",
    "        self.action_dim = self.price_return.shape[1]+1 #加一維cash\n",
    "        self.mid_dim = 16 #過完CNN每家公司的embedding長度  \n",
    "        #self.aug_state_dim = 1\n",
    "        #self.current_working_dir = current_working_dir\n",
    "        \n",
    "\n",
    "        self.if_discrete = False\n",
    "        self.target_return = 10\n",
    "        self.total_cumulative_return = []\n",
    "        \n",
    "    # softmax\n",
    "    def action_normalization(self, actions):\n",
    "        numerator = np.exp(actions)\n",
    "        denominator = np.sum(np.exp(actions))\n",
    "        softmax_output = numerator/denominator\n",
    "        \n",
    "        return softmax_output\n",
    "\n",
    "    def reset(self) -> np.ndarray:\n",
    "        self.time = self.lookback-1\n",
    "        self.current_price = self.price_array[self.time]\n",
    "        self.current_tech = self.tech_array[self.time] if self.tech_array.shape[0]>0 else self.tech_array\n",
    "        #self.current_aug_state = self.aug_state_array[self.time] if self.aug_state_array.shape[0]>0 else self.aug_state_array\n",
    "        self.cash = self.initial_cash  # reset()\n",
    "        self.portfolio = np.zeros(self.stock_num, dtype=np.float32) # 持有股數\n",
    "        self.total_asset = self.cash + np.sum(self.portfolio * self.price_array[self.time]) # 總資產價值\n",
    "        self.history = {'cumu_return':[],'action':[],'total_asset':[],'episode return':[]}\n",
    "        self.episode_return = 0.0\n",
    "        self.gamma_return = 0.0\n",
    "        state  = self.get_state()\n",
    "        \n",
    "        return state\n",
    "\n",
    "    \n",
    "    def step(self, actions) -> (np.ndarray, float, bool, None):\n",
    "        self.time += 1\n",
    "        #print('time:',self.time)\n",
    "        \"\"\"transaction\"\"\"\n",
    "        # 隔一天的weight，包含股票及現金的持有比例\n",
    "        action = self.action_normalization(actions)\n",
    "        action = action.reshape(-1)\n",
    "        \n",
    "        # 新的持有股數：現在的weight*前一天總資產價值/股價(無條件捨去)\n",
    "        new_portfolio = np.floor(action[:-1]*self.total_asset/self.price_array[self.time-1])\n",
    "        \n",
    "        # 前一天配置股票剩餘資金納入手上現金部位\n",
    "        self.cash = self.total_asset - sum(new_portfolio*self.price_array[self.time-1])\n",
    "        \n",
    "        # 計算手續費\n",
    "        portfolio_change = np.sum((new_portfolio-self.portfolio)*self.price_array[self.time-1])\n",
    "        trans_cost = portfolio_change*self.trans_cost\n",
    "        self.cash-=trans_cost\n",
    "        \n",
    "        # 計算新的資產價值\n",
    "        new_total_asset = np.sum(new_portfolio*self.price_array[self.time])+self.cash\n",
    "        #print('cash',self.cash)\n",
    "        \n",
    "        # 計算報酬率\n",
    "        portfolio_return = new_total_asset/self.total_asset\n",
    "        self.cumu_return = new_total_asset/self.initial_total_asset\n",
    "        reward = (portfolio_return-1)*100\n",
    "        \n",
    "        #更新資產狀態\n",
    "        self.total_asset = new_total_asset\n",
    "        self.portfolio = new_portfolio\n",
    "        \n",
    "        self.gamma_return = self.gamma_return * self.gamma + reward \n",
    "        self.cumu_return = self.total_asset / self.initial_cash\n",
    "        \n",
    "        self.history['cumu_return'].append(self.cumu_return)\n",
    "        self.history['action'].append(action)\n",
    "        self.history['total_asset'].append(self.total_asset)\n",
    "                \n",
    "        \"\"\"update time\"\"\"\n",
    "        done = self.time == self.max_step+self.lookback\n",
    "        state = self.get_state()\n",
    "        self.episode_return = self.total_asset / self.initial_total_asset\n",
    "        if done:\n",
    "            #print('self.max_step',self.max_step)\n",
    "            reward = self.gamma_return\n",
    "            self.episode_return = self.total_asset / self.initial_total_asset\n",
    "            \n",
    "            ''' \n",
    "            # 畫圖\n",
    "            plt.plot(self.history['cumu_return'])\n",
    "            plt.savefig('./train_history/cumulative_return/cumulative_plot'+datetime.now().strftime('%Y-%m-%d %H:%M:%S')+'.png')\n",
    "            plt.close()\n",
    "            '''\n",
    "            \n",
    "            # 每個episode交易紀錄存檔\n",
    "            pd.DataFrame(self.history['cumu_return']).to_csv('./train_history_DDPG/cumulative_return/cumu_return'\\\n",
    "                                                             +datetime.now().strftime('%Y-%m-%d %H%M%S')+'.csv')\n",
    "            pd.DataFrame(self.history['action']).to_csv('./train_history_DDPG/action/action'\\\n",
    "                                                             +datetime.now().strftime('%Y-%m-%d %H%M%S')+'.csv')\n",
    "        return state, reward, done, None\n",
    "\n",
    "    def get_state(self):\n",
    "        # 從現在時間往前取n天(lookback)\n",
    "#         print(self.time)\n",
    "\n",
    "        state = self.price_return[self.time-self.lookback+1:self.time+1].reshape(-1)*100 #flatten\n",
    "        \"\"\"\n",
    "        if self.turbulence_array.shape[0]!=0:\n",
    "            for i in range(self.lookback):\n",
    "                turbulence_i = self.turbulence_array[self.time-i]\n",
    "                normalized_turbulence_i = turbulence_i * 2 ** -15\n",
    "                state = np.hstack((state, normalized_turbulence_i)).astype(np.float32)\n",
    "        \"\"\"\n",
    "        \"\"\"\n",
    "        if self.aug_state_array.shape[0]!=0: #如果有aug_state的話\n",
    "            state = np.concatenate((state,self.aug_state_array[self.time]))\n",
    "        \"\"\"\n",
    "        if self.tech_array.shape[0]!=0: #如果有tech_array的話\n",
    "            for i in range(self.lookback):\n",
    "                tech_i = self.tech_array[self.time-i]\n",
    "                normalized_tech_i = tech_i * 2 ** -15\n",
    "                state = np.hstack((state, normalized_tech_i)).astype(np.float32)\n",
    "#         print('state',state.shape)\n",
    "        return state"
   ]
  },
  {
   "cell_type": "markdown",
   "metadata": {
    "pycharm": {
     "name": "#%% md\n"
    }
   },
   "source": [
    "### Create Folder"
   ]
  },
  {
   "cell_type": "code",
   "execution_count": 36,
   "metadata": {
    "pycharm": {
     "name": "#%%\n"
    }
   },
   "outputs": [],
   "source": [
    "# 清空資料夾\n",
    "import shutil\n",
    "#shutil.rmtree('./train_history_PPO')\n",
    "\n",
    "import os\n",
    "if not os.path.exists(\"./\" + 'train_history_DDPG'):\n",
    "    os.makedirs(\"./\" + 'train_history_DDPG')\n",
    "if not os.path.exists(\"./\" + 'train_history_DDPG/cumulative_return'):\n",
    "    os.makedirs(\"./\" + 'train_history_DDPG/cumulative_return')\n",
    "if not os.path.exists(\"./\" + 'train_history_DDPG/action'):\n",
    "    os.makedirs(\"./\" + 'train_history_DDPG/action')"
   ]
  },
  {
   "cell_type": "code",
   "execution_count": null,
   "metadata": {
    "pycharm": {
     "name": "#%%\n"
    }
   },
   "outputs": [],
   "source": []
  },
  {
   "cell_type": "markdown",
   "metadata": {
    "pycharm": {
     "name": "#%% md\n"
    }
   },
   "source": [
    "## Train and Evaluate RL Agent"
   ]
  },
  {
   "cell_type": "code",
   "execution_count": 48,
   "metadata": {
    "pycharm": {
     "name": "#%%\n"
    }
   },
   "outputs": [
    {
     "name": "stdout",
     "output_type": "stream",
     "text": [
      "| Arguments Remove cwd: agent_DDPG\n",
      "max_step 1248\n",
      "self.price_array.shape[0] 1259\n",
      "max_step 1248\n",
      "self.price_array.shape[0] 1259\n",
      "################################################################################\n",
      "ID     Step    maxR |    avgR   stdR   avgS  stdS |    expR   objC   etc.\n",
      "r_exp 0.06494399160146713\n"
     ]
    },
    {
     "ename": "KeyboardInterrupt",
     "evalue": "",
     "output_type": "error",
     "traceback": [
      "\u001b[1;31m---------------------------------------------------------------------------\u001b[0m",
      "\u001b[1;31mKeyboardInterrupt\u001b[0m                         Traceback (most recent call last)",
      "\u001b[1;32m~\\AppData\\Local\\Temp/ipykernel_27864/1230446306.py\u001b[0m in \u001b[0;36m<module>\u001b[1;34m\u001b[0m\n\u001b[0;32m     32\u001b[0m \u001b[1;33m\u001b[0m\u001b[0m\n\u001b[0;32m     33\u001b[0m \u001b[1;33m\u001b[0m\u001b[0m\n\u001b[1;32m---> 34\u001b[1;33m \u001b[0mtrain_and_evaluate\u001b[0m\u001b[1;33m(\u001b[0m\u001b[0mtrain_args\u001b[0m\u001b[1;33m)\u001b[0m\u001b[1;33m\u001b[0m\u001b[1;33m\u001b[0m\u001b[0m\n\u001b[0m\u001b[0;32m     35\u001b[0m \u001b[0mprint\u001b[0m\u001b[1;33m(\u001b[0m\u001b[1;34m'=====testing====='\u001b[0m\u001b[1;33m)\u001b[0m\u001b[1;33m\u001b[0m\u001b[1;33m\u001b[0m\u001b[0m\n\u001b[0;32m     36\u001b[0m \u001b[0mtest_agent\u001b[0m\u001b[1;33m(\u001b[0m\u001b[0mtest_args\u001b[0m\u001b[1;33m)\u001b[0m\u001b[1;33m\u001b[0m\u001b[1;33m\u001b[0m\u001b[0m\n",
      "\u001b[1;32m~\\Documents\\RL\\ERL_0414\\elegantrl\\train\\run.py\u001b[0m in \u001b[0;36mtrain_and_evaluate\u001b[1;34m(***failed resolving arguments***)\u001b[0m\n\u001b[0;32m     45\u001b[0m         \u001b[0mtorch\u001b[0m\u001b[1;33m.\u001b[0m\u001b[0mset_grad_enabled\u001b[0m\u001b[1;33m(\u001b[0m\u001b[1;32mFalse\u001b[0m\u001b[1;33m)\u001b[0m\u001b[1;33m\u001b[0m\u001b[1;33m\u001b[0m\u001b[0m\n\u001b[0;32m     46\u001b[0m         \u001b[0mprint\u001b[0m\u001b[1;33m(\u001b[0m\u001b[1;34m'r_exp'\u001b[0m\u001b[1;33m,\u001b[0m\u001b[0mr_exp\u001b[0m\u001b[1;33m)\u001b[0m\u001b[1;33m\u001b[0m\u001b[1;33m\u001b[0m\u001b[0m\n\u001b[1;32m---> 47\u001b[1;33m         (if_reach_goal, if_save) = evaluator.evaluate_save_and_plot(\n\u001b[0m\u001b[0;32m     48\u001b[0m             \u001b[0magent\u001b[0m\u001b[1;33m.\u001b[0m\u001b[0mact\u001b[0m\u001b[1;33m,\u001b[0m \u001b[0msteps\u001b[0m\u001b[1;33m,\u001b[0m \u001b[0mr_exp\u001b[0m\u001b[1;33m,\u001b[0m \u001b[0mlogging_tuple\u001b[0m\u001b[1;33m\u001b[0m\u001b[1;33m\u001b[0m\u001b[0m\n\u001b[0;32m     49\u001b[0m         )\n",
      "\u001b[1;32m~\\Documents\\RL\\ERL_0414\\elegantrl\\train\\evaluator.py\u001b[0m in \u001b[0;36mevaluate_save_and_plot\u001b[1;34m(self, act, steps, r_exp, log_tuple)\u001b[0m\n\u001b[0;32m     55\u001b[0m             \u001b[1;32mif\u001b[0m \u001b[0mr_avg\u001b[0m \u001b[1;33m>\u001b[0m \u001b[0mself\u001b[0m\u001b[1;33m.\u001b[0m\u001b[0mr_max\u001b[0m\u001b[1;33m:\u001b[0m\u001b[1;33m\u001b[0m\u001b[1;33m\u001b[0m\u001b[0m\n\u001b[0;32m     56\u001b[0m                 rewards_steps_list.extend(\n\u001b[1;32m---> 57\u001b[1;33m                     [\n\u001b[0m\u001b[0;32m     58\u001b[0m                         \u001b[0mget_episode_return_and_step\u001b[0m\u001b[1;33m(\u001b[0m\u001b[0mself\u001b[0m\u001b[1;33m.\u001b[0m\u001b[0meval_env\u001b[0m\u001b[1;33m,\u001b[0m \u001b[0mact\u001b[0m\u001b[1;33m)\u001b[0m\u001b[1;33m\u001b[0m\u001b[1;33m\u001b[0m\u001b[0m\n\u001b[0;32m     59\u001b[0m                         \u001b[1;32mfor\u001b[0m \u001b[0m_\u001b[0m \u001b[1;32min\u001b[0m \u001b[0mrange\u001b[0m\u001b[1;33m(\u001b[0m\u001b[0mself\u001b[0m\u001b[1;33m.\u001b[0m\u001b[0meval_times2\u001b[0m\u001b[1;33m)\u001b[0m\u001b[1;33m\u001b[0m\u001b[1;33m\u001b[0m\u001b[0m\n",
      "\u001b[1;32m~\\Documents\\RL\\ERL_0414\\elegantrl\\train\\evaluator.py\u001b[0m in \u001b[0;36m<listcomp>\u001b[1;34m(.0)\u001b[0m\n\u001b[0;32m     56\u001b[0m                 rewards_steps_list.extend(\n\u001b[0;32m     57\u001b[0m                     [\n\u001b[1;32m---> 58\u001b[1;33m                         \u001b[0mget_episode_return_and_step\u001b[0m\u001b[1;33m(\u001b[0m\u001b[0mself\u001b[0m\u001b[1;33m.\u001b[0m\u001b[0meval_env\u001b[0m\u001b[1;33m,\u001b[0m \u001b[0mact\u001b[0m\u001b[1;33m)\u001b[0m\u001b[1;33m\u001b[0m\u001b[1;33m\u001b[0m\u001b[0m\n\u001b[0m\u001b[0;32m     59\u001b[0m                         \u001b[1;32mfor\u001b[0m \u001b[0m_\u001b[0m \u001b[1;32min\u001b[0m \u001b[0mrange\u001b[0m\u001b[1;33m(\u001b[0m\u001b[0mself\u001b[0m\u001b[1;33m.\u001b[0m\u001b[0meval_times2\u001b[0m\u001b[1;33m)\u001b[0m\u001b[1;33m\u001b[0m\u001b[1;33m\u001b[0m\u001b[0m\n\u001b[0;32m     60\u001b[0m                     ]\n",
      "\u001b[1;32m~\\Documents\\RL\\ERL_0414\\elegantrl\\train\\evaluator.py\u001b[0m in \u001b[0;36mget_episode_return_and_step\u001b[1;34m(env, act)\u001b[0m\n\u001b[0;32m    165\u001b[0m             \u001b[1;36m0\u001b[0m\u001b[1;33m\u001b[0m\u001b[1;33m\u001b[0m\u001b[0m\n\u001b[0;32m    166\u001b[0m         )\n\u001b[1;32m--> 167\u001b[1;33m         \u001b[0ma_tensor\u001b[0m \u001b[1;33m=\u001b[0m \u001b[0mact\u001b[0m\u001b[1;33m(\u001b[0m\u001b[0ms_tensor\u001b[0m\u001b[1;33m)\u001b[0m\u001b[1;33m\u001b[0m\u001b[1;33m\u001b[0m\u001b[0m\n\u001b[0m\u001b[0;32m    168\u001b[0m         \u001b[1;32mif\u001b[0m \u001b[0mif_discrete\u001b[0m\u001b[1;33m:\u001b[0m\u001b[1;33m\u001b[0m\u001b[1;33m\u001b[0m\u001b[0m\n\u001b[0;32m    169\u001b[0m             \u001b[0ma_tensor\u001b[0m \u001b[1;33m=\u001b[0m \u001b[0ma_tensor\u001b[0m\u001b[1;33m.\u001b[0m\u001b[0margmax\u001b[0m\u001b[1;33m(\u001b[0m\u001b[0mdim\u001b[0m\u001b[1;33m=\u001b[0m\u001b[1;36m1\u001b[0m\u001b[1;33m)\u001b[0m\u001b[1;33m\u001b[0m\u001b[1;33m\u001b[0m\u001b[0m\n",
      "\u001b[1;32m~\\anaconda3\\lib\\site-packages\\torch\\nn\\modules\\module.py\u001b[0m in \u001b[0;36m_call_impl\u001b[1;34m(self, *input, **kwargs)\u001b[0m\n\u001b[0;32m   1128\u001b[0m         if not (self._backward_hooks or self._forward_hooks or self._forward_pre_hooks or _global_backward_hooks\n\u001b[0;32m   1129\u001b[0m                 or _global_forward_hooks or _global_forward_pre_hooks):\n\u001b[1;32m-> 1130\u001b[1;33m             \u001b[1;32mreturn\u001b[0m \u001b[0mforward_call\u001b[0m\u001b[1;33m(\u001b[0m\u001b[1;33m*\u001b[0m\u001b[0minput\u001b[0m\u001b[1;33m,\u001b[0m \u001b[1;33m**\u001b[0m\u001b[0mkwargs\u001b[0m\u001b[1;33m)\u001b[0m\u001b[1;33m\u001b[0m\u001b[1;33m\u001b[0m\u001b[0m\n\u001b[0m\u001b[0;32m   1131\u001b[0m         \u001b[1;31m# Do not call functions when jit is used\u001b[0m\u001b[1;33m\u001b[0m\u001b[1;33m\u001b[0m\u001b[0m\n\u001b[0;32m   1132\u001b[0m         \u001b[0mfull_backward_hooks\u001b[0m\u001b[1;33m,\u001b[0m \u001b[0mnon_full_backward_hooks\u001b[0m \u001b[1;33m=\u001b[0m \u001b[1;33m[\u001b[0m\u001b[1;33m]\u001b[0m\u001b[1;33m,\u001b[0m \u001b[1;33m[\u001b[0m\u001b[1;33m]\u001b[0m\u001b[1;33m\u001b[0m\u001b[1;33m\u001b[0m\u001b[0m\n",
      "\u001b[1;32m~\\Documents\\RL\\ERL_0414\\elegantrl\\agents\\net.py\u001b[0m in \u001b[0;36mforward\u001b[1;34m(self, state)\u001b[0m\n\u001b[0;32m    239\u001b[0m \u001b[1;33m\u001b[0m\u001b[0m\n\u001b[0;32m    240\u001b[0m     \u001b[1;32mdef\u001b[0m \u001b[0mforward\u001b[0m\u001b[1;33m(\u001b[0m\u001b[0mself\u001b[0m\u001b[1;33m,\u001b[0m \u001b[0mstate\u001b[0m\u001b[1;33m)\u001b[0m\u001b[1;33m:\u001b[0m\u001b[1;33m\u001b[0m\u001b[1;33m\u001b[0m\u001b[0m\n\u001b[1;32m--> 241\u001b[1;33m         \u001b[0mtmp\u001b[0m \u001b[1;33m=\u001b[0m \u001b[0mself\u001b[0m\u001b[1;33m.\u001b[0m\u001b[0mnet_state\u001b[0m\u001b[1;33m(\u001b[0m\u001b[0mstate\u001b[0m\u001b[1;33m)\u001b[0m\u001b[1;33m\u001b[0m\u001b[1;33m\u001b[0m\u001b[0m\n\u001b[0m\u001b[0;32m    242\u001b[0m         \u001b[1;32mreturn\u001b[0m \u001b[0mself\u001b[0m\u001b[1;33m.\u001b[0m\u001b[0mnet_a_avg\u001b[0m\u001b[1;33m(\u001b[0m\u001b[0mtmp\u001b[0m\u001b[1;33m)\u001b[0m\u001b[1;33m.\u001b[0m\u001b[0mtanh\u001b[0m\u001b[1;33m(\u001b[0m\u001b[1;33m)\u001b[0m  \u001b[1;31m# action\u001b[0m\u001b[1;33m\u001b[0m\u001b[1;33m\u001b[0m\u001b[0m\n\u001b[0;32m    243\u001b[0m \u001b[1;33m\u001b[0m\u001b[0m\n",
      "\u001b[1;32m~\\anaconda3\\lib\\site-packages\\torch\\nn\\modules\\module.py\u001b[0m in \u001b[0;36m_call_impl\u001b[1;34m(self, *input, **kwargs)\u001b[0m\n\u001b[0;32m   1128\u001b[0m         if not (self._backward_hooks or self._forward_hooks or self._forward_pre_hooks or _global_backward_hooks\n\u001b[0;32m   1129\u001b[0m                 or _global_forward_hooks or _global_forward_pre_hooks):\n\u001b[1;32m-> 1130\u001b[1;33m             \u001b[1;32mreturn\u001b[0m \u001b[0mforward_call\u001b[0m\u001b[1;33m(\u001b[0m\u001b[1;33m*\u001b[0m\u001b[0minput\u001b[0m\u001b[1;33m,\u001b[0m \u001b[1;33m**\u001b[0m\u001b[0mkwargs\u001b[0m\u001b[1;33m)\u001b[0m\u001b[1;33m\u001b[0m\u001b[1;33m\u001b[0m\u001b[0m\n\u001b[0m\u001b[0;32m   1131\u001b[0m         \u001b[1;31m# Do not call functions when jit is used\u001b[0m\u001b[1;33m\u001b[0m\u001b[1;33m\u001b[0m\u001b[0m\n\u001b[0;32m   1132\u001b[0m         \u001b[0mfull_backward_hooks\u001b[0m\u001b[1;33m,\u001b[0m \u001b[0mnon_full_backward_hooks\u001b[0m \u001b[1;33m=\u001b[0m \u001b[1;33m[\u001b[0m\u001b[1;33m]\u001b[0m\u001b[1;33m,\u001b[0m \u001b[1;33m[\u001b[0m\u001b[1;33m]\u001b[0m\u001b[1;33m\u001b[0m\u001b[1;33m\u001b[0m\u001b[0m\n",
      "\u001b[1;32m~\\anaconda3\\lib\\site-packages\\torch\\nn\\modules\\container.py\u001b[0m in \u001b[0;36mforward\u001b[1;34m(self, input)\u001b[0m\n\u001b[0;32m    137\u001b[0m     \u001b[1;32mdef\u001b[0m \u001b[0mforward\u001b[0m\u001b[1;33m(\u001b[0m\u001b[0mself\u001b[0m\u001b[1;33m,\u001b[0m \u001b[0minput\u001b[0m\u001b[1;33m)\u001b[0m\u001b[1;33m:\u001b[0m\u001b[1;33m\u001b[0m\u001b[1;33m\u001b[0m\u001b[0m\n\u001b[0;32m    138\u001b[0m         \u001b[1;32mfor\u001b[0m \u001b[0mmodule\u001b[0m \u001b[1;32min\u001b[0m \u001b[0mself\u001b[0m\u001b[1;33m:\u001b[0m\u001b[1;33m\u001b[0m\u001b[1;33m\u001b[0m\u001b[0m\n\u001b[1;32m--> 139\u001b[1;33m             \u001b[0minput\u001b[0m \u001b[1;33m=\u001b[0m \u001b[0mmodule\u001b[0m\u001b[1;33m(\u001b[0m\u001b[0minput\u001b[0m\u001b[1;33m)\u001b[0m\u001b[1;33m\u001b[0m\u001b[1;33m\u001b[0m\u001b[0m\n\u001b[0m\u001b[0;32m    140\u001b[0m         \u001b[1;32mreturn\u001b[0m \u001b[0minput\u001b[0m\u001b[1;33m\u001b[0m\u001b[1;33m\u001b[0m\u001b[0m\n\u001b[0;32m    141\u001b[0m \u001b[1;33m\u001b[0m\u001b[0m\n",
      "\u001b[1;32m~\\anaconda3\\lib\\site-packages\\torch\\nn\\modules\\module.py\u001b[0m in \u001b[0;36m_call_impl\u001b[1;34m(self, *input, **kwargs)\u001b[0m\n\u001b[0;32m   1128\u001b[0m         if not (self._backward_hooks or self._forward_hooks or self._forward_pre_hooks or _global_backward_hooks\n\u001b[0;32m   1129\u001b[0m                 or _global_forward_hooks or _global_forward_pre_hooks):\n\u001b[1;32m-> 1130\u001b[1;33m             \u001b[1;32mreturn\u001b[0m \u001b[0mforward_call\u001b[0m\u001b[1;33m(\u001b[0m\u001b[1;33m*\u001b[0m\u001b[0minput\u001b[0m\u001b[1;33m,\u001b[0m \u001b[1;33m**\u001b[0m\u001b[0mkwargs\u001b[0m\u001b[1;33m)\u001b[0m\u001b[1;33m\u001b[0m\u001b[1;33m\u001b[0m\u001b[0m\n\u001b[0m\u001b[0;32m   1131\u001b[0m         \u001b[1;31m# Do not call functions when jit is used\u001b[0m\u001b[1;33m\u001b[0m\u001b[1;33m\u001b[0m\u001b[0m\n\u001b[0;32m   1132\u001b[0m         \u001b[0mfull_backward_hooks\u001b[0m\u001b[1;33m,\u001b[0m \u001b[0mnon_full_backward_hooks\u001b[0m \u001b[1;33m=\u001b[0m \u001b[1;33m[\u001b[0m\u001b[1;33m]\u001b[0m\u001b[1;33m,\u001b[0m \u001b[1;33m[\u001b[0m\u001b[1;33m]\u001b[0m\u001b[1;33m\u001b[0m\u001b[1;33m\u001b[0m\u001b[0m\n",
      "\u001b[1;32m~\\anaconda3\\lib\\site-packages\\torch\\nn\\modules\\linear.py\u001b[0m in \u001b[0;36mforward\u001b[1;34m(self, input)\u001b[0m\n\u001b[0;32m    112\u001b[0m \u001b[1;33m\u001b[0m\u001b[0m\n\u001b[0;32m    113\u001b[0m     \u001b[1;32mdef\u001b[0m \u001b[0mforward\u001b[0m\u001b[1;33m(\u001b[0m\u001b[0mself\u001b[0m\u001b[1;33m,\u001b[0m \u001b[0minput\u001b[0m\u001b[1;33m:\u001b[0m \u001b[0mTensor\u001b[0m\u001b[1;33m)\u001b[0m \u001b[1;33m->\u001b[0m \u001b[0mTensor\u001b[0m\u001b[1;33m:\u001b[0m\u001b[1;33m\u001b[0m\u001b[1;33m\u001b[0m\u001b[0m\n\u001b[1;32m--> 114\u001b[1;33m         \u001b[1;32mreturn\u001b[0m \u001b[0mF\u001b[0m\u001b[1;33m.\u001b[0m\u001b[0mlinear\u001b[0m\u001b[1;33m(\u001b[0m\u001b[0minput\u001b[0m\u001b[1;33m,\u001b[0m \u001b[0mself\u001b[0m\u001b[1;33m.\u001b[0m\u001b[0mweight\u001b[0m\u001b[1;33m,\u001b[0m \u001b[0mself\u001b[0m\u001b[1;33m.\u001b[0m\u001b[0mbias\u001b[0m\u001b[1;33m)\u001b[0m\u001b[1;33m\u001b[0m\u001b[1;33m\u001b[0m\u001b[0m\n\u001b[0m\u001b[0;32m    115\u001b[0m \u001b[1;33m\u001b[0m\u001b[0m\n\u001b[0;32m    116\u001b[0m     \u001b[1;32mdef\u001b[0m \u001b[0mextra_repr\u001b[0m\u001b[1;33m(\u001b[0m\u001b[0mself\u001b[0m\u001b[1;33m)\u001b[0m \u001b[1;33m->\u001b[0m \u001b[0mstr\u001b[0m\u001b[1;33m:\u001b[0m\u001b[1;33m\u001b[0m\u001b[1;33m\u001b[0m\u001b[0m\n",
      "\u001b[1;31mKeyboardInterrupt\u001b[0m: "
     ]
    }
   ],
   "source": [
    "'''import你要跑的演算法'''\n",
    "from elegantrl.agents.AgentDDPG import AgentDDPG\n",
    "from elegantrl.agents.AgentPPO import AgentPPO\n",
    "from elegantrl.agents.AgentA2C import AgentA2C\n",
    "from elegantrl.train.config import Arguments\n",
    "from elegantrl.train.run import train_and_evaluate,test_agent\n",
    "\n",
    "env_func = StockPortfolioEnv\n",
    "env_args = {\n",
    "    'env_name':'portfolio_allocation',\n",
    "    'if_discrete' : False,\n",
    "    'target_return' : 100, #目標return\n",
    "    'lookback':10,\n",
    "    'env_num':1,\n",
    "    'max_step':1000,\n",
    "    'state_dim':30, #10*n\n",
    "    'action_dim':4, #n+1\n",
    "}\n",
    "\n",
    "train_env_args = env_args.copy()\n",
    "test_env_args = env_args.copy()\n",
    "train_env_args.update({\n",
    "    'price_array' : price_array_train,\n",
    "    'tech_array':tech_array_train})\n",
    "\n",
    "test_env_args.update({\n",
    "    'price_array' : price_array_test,\n",
    "    'tech_array':tech_array_test})\n",
    "\n",
    "train_args = Arguments(AgentDDPG, env_func=env_func, env_args=train_env_args)\n",
    "test_args = Arguments(AgentDDPG, env_func=env_func, env_args=test_env_args)\n",
    "\n",
    "\n",
    "train_and_evaluate(train_args)\n",
    "print('=====testing=====')\n",
    "test_agent(test_args)\n",
    "\n",
    "\n",
    "'''\n",
    "TODO: add baseline\n",
    "'''\n",
    "\n",
    "\n",
    "\n",
    "'''\n",
    "TODO: print testing result\n",
    "'''"
   ]
  },
  {
   "cell_type": "code",
   "execution_count": 49,
   "metadata": {
    "pycharm": {
     "name": "#%%\n"
    }
   },
   "outputs": [
    {
     "name": "stdout",
     "output_type": "stream",
     "text": [
      "max_step 190\n",
      "self.price_array.shape[0] 201\n"
     ]
    }
   ],
   "source": [
    "test_agent(test_args)"
   ]
  },
  {
   "cell_type": "markdown",
   "metadata": {
    "pycharm": {
     "name": "#%% md\n"
    }
   },
   "source": [
    "### Training Plot"
   ]
  },
  {
   "cell_type": "code",
   "execution_count": 50,
   "metadata": {
    "pycharm": {
     "name": "#%%\n"
    }
   },
   "outputs": [
    {
     "name": "stdout",
     "output_type": "stream",
     "text": [
      "total episode: 793\n"
     ]
    },
    {
     "data": {
      "image/png": "[encoded data removed]",
      "text/plain": [
       "<Figure size 432x288 with 1 Axes>"
      ]
     },
     "metadata": {
      "needs_background": "light"
     },
     "output_type": "display_data"
    }
   ],
   "source": [
    "import os\n",
    "import matplotlib.pyplot as plt\n",
    "%matplotlib inline\n",
    "name = []\n",
    "cumu_return = []\n",
    "count = 0\n",
    "for root,_,files in os.walk('./train_history_DDPG/cumulative_return'):\n",
    "    for i in files:\n",
    "        if i.endswith('csv') and 'checkpoint' not in i:\n",
    "            name.append(i)     \n",
    "name.sort()\n",
    "for i in name:\n",
    "    count+=1\n",
    "    tmp = pd.read_csv(os.path.join('./train_history_DDPG/cumulative_return',i))\n",
    "    cumu_return.append(tmp['0'].values[-1])\n",
    "            \n",
    "print('total episode:',count)\n",
    "ma = pd.DataFrame(cumu_return).rolling(30).mean()\n",
    "plt.title('episode cumulative return in training period')\n",
    "plt.ylabel('cumu return')\n",
    "plt.xlabel('number of episode')\n",
    "plt.plot(cumu_return)\n",
    "plt.plot(ma)\n",
    "plt.show()"
   ]
  },
  {
   "cell_type": "markdown",
   "metadata": {
    "pycharm": {
     "name": "#%% md\n"
    }
   },
   "source": [
    "### Testing Plot"
   ]
  },
  {
   "cell_type": "code",
   "execution_count": 51,
   "metadata": {
    "pycharm": {
     "name": "#%%\n"
    }
   },
   "outputs": [
    {
     "name": "stdout",
     "output_type": "stream",
     "text": [
      "[*********************100%***********************]  1 of 1 completed\n",
      "Shape of DataFrame:  (201, 9)\n",
      "[*********************100%***********************]  1 of 1 completed\n",
      "Shape of DataFrame:  (201, 9)\n",
      "[*********************100%***********************]  1 of 1 completed\n",
      "Shape of DataFrame:  (201, 9)\n",
      "[*********************100%***********************]  1 of 1 completed\n",
      "Shape of DataFrame:  (201, 9)\n"
     ]
    },
    {
     "data": {
      "image/png": "[encoded data removed]",
      "text/plain": [
       "<Figure size 432x288 with 1 Axes>"
      ]
     },
     "metadata": {
      "needs_background": "light"
     },
     "output_type": "display_data"
    }
   ],
   "source": [
    "import os\n",
    "import matplotlib.pyplot as plt\n",
    "\n",
    "plt.title('Testing return')\n",
    "plt.ylabel('return')\n",
    "plt.xlabel('number of step')\n",
    "DDPG_return = pd.read_csv('./train_history_DDPG_2022/cumulative_return/cumu_return2022-10-25 171720.csv')\n",
    "PPO_return = pd.read_csv('./train_history_PPO_2022/cumulative_return/cumu_return2022-10-25 181911.csv')\n",
    "DDPG_return.columns=['step','return']\n",
    "PPO_return.columns=['step','return']\n",
    "sp500 = DP.download_data(start_date = TEST_START_DATE,end_date = TEST_END_DATE,ticker_list = ['%5EGSPC'], time_interval='1D')\n",
    "tlt = DP.download_data(start_date = TEST_START_DATE,end_date = TEST_END_DATE,ticker_list = ['TLT'], time_interval='1D')\n",
    "vnq = DP.download_data(start_date = TEST_START_DATE,end_date = TEST_END_DATE,ticker_list = ['VNQ'], time_interval='1D')\n",
    "vti = DP.download_data(start_date = TEST_START_DATE,end_date = TEST_END_DATE,ticker_list = ['VTI'], time_interval='1D')\n",
    "dis = len(sp500['close'])-len(PPO_return)\n",
    "tlt  = tlt.iloc[dis:].reset_index()\n",
    "vnq  = vnq.iloc[dis:].reset_index()\n",
    "vti  = vti.iloc[dis:].reset_index()"
   ]
  },
  {
   "cell_type": "code",
   "execution_count": 53,
   "metadata": {
    "pycharm": {
     "name": "#%%\n"
    }
   },
   "outputs": [
    {
     "name": "stdout",
     "output_type": "stream",
     "text": [
      "DDPG_return len: 191\n",
      "PPO_return len: 191\n",
      "sp500 len: 201\n"
     ]
    },
    {
     "data": {
      "text/plain": [
       "<function matplotlib.pyplot.show(close=None, block=None)>"
      ]
     },
     "execution_count": 53,
     "metadata": {},
     "output_type": "execute_result"
    },
    {
     "data": {
      "image/png": "[encoded data removed]",
      "text/plain": [
       "<Figure size 432x288 with 1 Axes>"
      ]
     },
     "metadata": {
      "needs_background": "light"
     },
     "output_type": "display_data"
    }
   ],
   "source": [
    "print('DDPG_return len:',len(DDPG_return))\n",
    "print('PPO_return len:',len(PPO_return))\n",
    "print('sp500 len:',len(sp500['close']))\n",
    "\n",
    "plt.ylabel('portfolio value')\n",
    "plt.xlabel('time period')\n",
    "plt.title('FinRL performance in 2022')\n",
    "plt.plot(DDPG_return['return'])\n",
    "plt.plot(PPO_return['return'])\n",
    "plt.plot((sp500['close'].pct_change().cumsum()+1).fillna(1))\n",
    "plt.plot((tlt['close'].pct_change().cumsum()+1).fillna(1))\n",
    "plt.plot((vnq['close'].pct_change().cumsum()+1).fillna(1))\n",
    "plt.plot((vti['close'].pct_change().cumsum()+1).fillna(1))\n",
    "plt.legend(['DDPG','PPO','SP500','TLT','VNQ','VTI'])\n",
    "\n",
    "plt.show"
   ]
  },
  {
   "cell_type": "code",
   "execution_count": 54,
   "metadata": {
    "pycharm": {
     "name": "#%%\n"
    }
   },
   "outputs": [
    {
     "name": "stdout",
     "output_type": "stream",
     "text": [
      "-0.14864794486370114\n",
      "-0.22671993983974414\n"
     ]
    }
   ],
   "source": [
    "print(DDPG_return['return'].iloc[-1]-1)\n",
    "print(PPO_return['return'].iloc[-1]-1)"
   ]
  },
  {
   "cell_type": "code",
   "execution_count": null,
   "metadata": {
    "pycharm": {
     "name": "#%%\n"
    }
   },
   "outputs": [],
   "source": []
  },
  {
   "cell_type": "code",
   "execution_count": null,
   "metadata": {},
   "outputs": [],
   "source": []
  }
 ],
 "metadata": {
  "colab": {
   "collapsed_sections": [
    "lvrqTro3lhAh",
    "a3Iuv554xYFH",
    "SPEXBcm-uBJo",
    "iidB5E27dfzh"
   ],
   "include_colab_link": true,
   "name": "FinRL_PortfolioAllocation_NeurIPS_2020.ipynb",
   "provenance": []
  },
  "kernelspec": {
   "display_name": "Python 3 (ipykernel)",
   "language": "python",
   "name": "python3"
  },
  "language_info": {
   "codemirror_mode": {
    "name": "ipython",
    "version": 3
   },
   "file_extension": ".py",
   "mimetype": "text/x-python",
   "name": "python",
   "nbconvert_exporter": "python",
   "pygments_lexer": "ipython3",
   "version": "3.9.7"
  }
 },
 "nbformat": 4,
 "nbformat_minor": 4
}
